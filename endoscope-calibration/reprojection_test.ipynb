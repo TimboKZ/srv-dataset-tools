{
 "cells": [
  {
   "cell_type": "code",
   "execution_count": 1,
   "metadata": {},
   "outputs": [],
   "source": [
    "%matplotlib notebook\n",
    "%config InlineBackend.print_figure_kwargs = {'bbox_inches':None}\n",
    "\n",
    "from mpl_toolkits import mplot3d\n",
    "import matplotlib.pyplot as plt\n",
    "from os import path\n",
    "import numpy as np\n",
    "import cv2 as cv\n",
    "import trimesh\n",
    "import os\n",
    "\n",
    "# Our local modules\n",
    "import src.calibrate as clb\n",
    "import src.util as util"
   ]
  },
  {
   "cell_type": "markdown",
   "metadata": {},
   "source": [
    "# Overview\n",
    "\n",
    "We use our estimates of camera intrinsics and extrinsics, as well as endoscope markers rigidbody template, to produce a 3D render of the phantom as the endoscope would see it. We then compare the result to the actual image from the endoscope.\n",
    "\n",
    "> **Note that we only need to run this code once in the beginning of the experiment.**"
   ]
  },
  {
   "cell_type": "markdown",
   "metadata": {},
   "source": [
    "# Check that we're in the correct folder\n",
    "\n",
    "For the code in this notebook to work correctly, the Jupyter server must be started from the `endoscope-calibration` folder. Then you put all of your data in the `./endoscope-calibration/data/`. "
   ]
  },
  {
   "cell_type": "code",
   "execution_count": 2,
   "metadata": {},
   "outputs": [],
   "source": [
    "# Check that we're in the right directory\n",
    "base_dir_name = 'endoscope-calibration'\n",
    "cwd = os.getcwd()\n",
    "if not cwd.endswith(base_dir_name):\n",
    "    print('[WARNING] Your base directory is not \\'{}\\' - are you running '\n",
    "          'Jupyter in the correct server?'.format(base_dir_name))\n",
    "    \n",
    "data_dir = path.join(cwd, 'data')"
   ]
  },
  {
   "cell_type": "markdown",
   "metadata": {},
   "source": [
    "# Load endoscope marker meshes from the phantom CT scan"
   ]
  },
  {
   "cell_type": "code",
   "execution_count": 3,
   "metadata": {},
   "outputs": [],
   "source": [
    "endo_phantom_dir = path.join(data_dir, 'endo_phantom')\n",
    "endo_phantom_markers_file = path.join(endo_phantom_dir, 'mesh1_endoscope_markers.stl')\n",
    "endo_phantom_markers_joint = trimesh.load(endo_phantom_markers_file)"
   ]
  },
  {
   "cell_type": "markdown",
   "metadata": {},
   "source": [
    "# Load our camera intrinsics/extrinsics estimates"
   ]
  },
  {
   "cell_type": "code",
   "execution_count": 4,
   "metadata": {},
   "outputs": [],
   "source": [
    "intrinsics_file = path.join(data_dir, 'refined_intrinsics.json')\n",
    "cam_matrix, dist_coeffs, width, height = util.load_intrinsics(intrinsics_file)\n",
    "extrinsics_file = path.join(data_dir, 'extrinsics.json')\n",
    "T_rigid_to_cam, endoscope_markers = util.load_extrinsics(extrinsics_file)\n",
    "\n",
    "new_cam_matrix, roi = cv.getOptimalNewCameraMatrix(cam_matrix, dist_coeffs,\n",
    "                                                   (width, height), 1, (width, height))"
   ]
  },
  {
   "cell_type": "markdown",
   "metadata": {},
   "source": [
    "# Find transform from world to our calibration reference frame"
   ]
  },
  {
   "cell_type": "code",
   "execution_count": 5,
   "metadata": {
    "scrolled": false
   },
   "outputs": [],
   "source": [
    "phantom_centroids = util.extract_marker_mesh_centroids(endo_phantom_markers_joint)\n",
    "phantom_points_3d = np.array(phantom_centroids).T\n",
    "\n",
    "T_world_to_rigid = clb.calc_rigid_body_transform(phantom_points_3d, endoscope_markers)"
   ]
  },
  {
   "cell_type": "markdown",
   "metadata": {},
   "source": [
    "# Find transform from world to camera frame and visualise it"
   ]
  },
  {
   "cell_type": "code",
   "execution_count": 18,
   "metadata": {},
   "outputs": [
    {
     "name": "stdout",
     "output_type": "stream",
     "text": [
      "[[   0.    1.    0.  -92.]\n",
      " [  -1.    0.   -0. -121.]\n",
      " [  -0.   -0.    1. -113.]\n",
      " [   0.    0.    0.    1.]]\n"
     ]
    },
    {
     "ename": "AttributeError",
     "evalue": "module 'numpy' has no attribute 'inv'",
     "output_type": "error",
     "traceback": [
      "\u001b[0;31m---------------------------------------------------------------------------\u001b[0m",
      "\u001b[0;31mAttributeError\u001b[0m                            Traceback (most recent call last)",
      "\u001b[0;32m<ipython-input-18-b57ea6261102>\u001b[0m in \u001b[0;36m<module>\u001b[0;34m\u001b[0m\n\u001b[1;32m      6\u001b[0m \u001b[0;34m\u001b[0m\u001b[0m\n\u001b[1;32m      7\u001b[0m \u001b[0mprint\u001b[0m\u001b[0;34m(\u001b[0m\u001b[0mnp\u001b[0m\u001b[0;34m.\u001b[0m\u001b[0mround\u001b[0m\u001b[0;34m(\u001b[0m\u001b[0mT_rigid_to_world\u001b[0m\u001b[0;34m)\u001b[0m\u001b[0;34m)\u001b[0m\u001b[0;34m\u001b[0m\u001b[0m\n\u001b[0;32m----> 8\u001b[0;31m \u001b[0mprint\u001b[0m\u001b[0;34m(\u001b[0m\u001b[0mnp\u001b[0m\u001b[0;34m.\u001b[0m\u001b[0mround\u001b[0m\u001b[0;34m(\u001b[0m\u001b[0mnp\u001b[0m\u001b[0;34m.\u001b[0m\u001b[0minv\u001b[0m\u001b[0;34m(\u001b[0m\u001b[0mT_world_to_rigid\u001b[0m\u001b[0;34m)\u001b[0m\u001b[0;34m)\u001b[0m\u001b[0;34m)\u001b[0m\u001b[0;34m\u001b[0m\u001b[0m\n\u001b[0m\u001b[1;32m      9\u001b[0m \u001b[0;34m\u001b[0m\u001b[0m\n\u001b[1;32m     10\u001b[0m \u001b[0m_\u001b[0m\u001b[0;34m,\u001b[0m \u001b[0max\u001b[0m \u001b[0;34m=\u001b[0m \u001b[0mutil\u001b[0m\u001b[0;34m.\u001b[0m\u001b[0mprepare_3d_plot\u001b[0m\u001b[0;34m(\u001b[0m\u001b[0mtitle\u001b[0m\u001b[0;34m=\u001b[0m\u001b[0;34m'Camera position with respect to phantom CT scan frame'\u001b[0m\u001b[0;34m)\u001b[0m\u001b[0;34m\u001b[0m\u001b[0m\n",
      "\u001b[0;31mAttributeError\u001b[0m: module 'numpy' has no attribute 'inv'"
     ]
    }
   ],
   "source": [
    "T_world_to_cam = T_rigid_to_cam @ T_world_to_rigid\n",
    "T_cam_to_world = np.linalg.inv(T_world_to_cam)\n",
    "\n",
    "T_rigid_to_world = clb.calc_rigid_body_transform(endoscope_markers, phantom_points_3d)\n",
    "test_points = util.apply_transform(endoscope_markers, T_rigid_to_world)\n",
    "\n",
    "print(np.round(T_rigid_to_world))\n",
    "print(np.round(np.linalg.inv(T_world_to_rigid)))\n",
    "\n",
    "_, ax = util.prepare_3d_plot(title='Camera position with respect to phantom CT scan frame')\n",
    "util.draw_3d_points(ax, endoscope_markers, colour='blue')\n",
    "util.draw_3d_points(ax, phantom_points_3d, colour='purple')\n",
    "util.draw_3d_points(ax, test_points, colour='green')\n",
    "# util.draw_3d_camera(ax, width, height, new_cam_matrix, T_cam_to_world, z=40)"
   ]
  },
  {
   "cell_type": "code",
   "execution_count": null,
   "metadata": {},
   "outputs": [],
   "source": [
    "\n"
   ]
  }
 ],
 "metadata": {
  "kernelspec": {
   "display_name": "Python 3",
   "language": "python",
   "name": "python3"
  },
  "language_info": {
   "codemirror_mode": {
    "name": "ipython",
    "version": 3
   },
   "file_extension": ".py",
   "mimetype": "text/x-python",
   "name": "python",
   "nbconvert_exporter": "python",
   "pygments_lexer": "ipython3",
   "version": "3.5.2"
  }
 },
 "nbformat": 4,
 "nbformat_minor": 2
}
